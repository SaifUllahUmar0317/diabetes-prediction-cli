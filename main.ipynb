{
 "cells": [
  {
   "cell_type": "markdown",
   "id": "e0798b8b-5d20-414a-9908-8e3110cf844f",
   "metadata": {},
   "source": [
    "# Diabetes predictor"
   ]
  },
  {
   "cell_type": "markdown",
   "id": "6c87af58-041c-483e-b3d5-372c46a2403c",
   "metadata": {},
   "source": [
    "#### Libraries"
   ]
  },
  {
   "cell_type": "code",
   "execution_count": null,
   "id": "a64ca580-0e1f-4ff6-a203-ca665ae9ba53",
   "metadata": {},
   "outputs": [],
   "source": [
    "import pandas as pd\n",
    "import numpy as np\n",
    "from sklearn.model_selection import train_test_split\n",
    "from sklearn.linear_model import LogisticRegression\n",
    "from sklearn.neighbors import KNeighborsClassifier\n",
    "import matplotlib.pyplot as plt\n",
    "import seaborn as sns\n",
    "from sklearn.feature_selection import mutual_info_classif\n",
    "from sklearn.preprocessing import MinMaxScaler\n",
    "from sklearn.metrics import confusion_matrix,accuracy_score,precision_score,recall_score, f1_score\n",
    "from sklearn.ensemble import RandomForestClassifier\n",
    "from imblearn.over_sampling import SMOTE\n",
    "from sklearn.tree import DecisionTreeClassifier\n",
    "import joblib"
   ]
  },
  {
   "cell_type": "markdown",
   "id": "a14fbde5-7f31-40e8-8bcb-9d7d8c366338",
   "metadata": {},
   "source": [
    "#### Data Loading"
   ]
  },
  {
   "cell_type": "code",
   "execution_count": null,
   "id": "3256bb8b-8b82-47fc-ae82-8a0dc222140c",
   "metadata": {},
   "outputs": [],
   "source": [
    "data = pd.read_csv(\"diabetes.csv\")\n",
    "data.head()"
   ]
  },
  {
   "cell_type": "markdown",
   "id": "3ca75a98-1339-4ff3-88d6-aad86b8cfefe",
   "metadata": {},
   "source": [
    "#### Data preprocessing"
   ]
  },
  {
   "cell_type": "code",
   "execution_count": null,
   "id": "1e8c194d-b203-45b8-a94c-e54e4c739c14",
   "metadata": {},
   "outputs": [],
   "source": [
    "data.duplicated().sum()"
   ]
  },
  {
   "cell_type": "code",
   "execution_count": null,
   "id": "c9603fe7-b7c1-4721-9a20-6521607895a7",
   "metadata": {},
   "outputs": [],
   "source": [
    "data.isnull().sum()"
   ]
  },
  {
   "cell_type": "code",
   "execution_count": null,
   "id": "52865f30-c88f-402b-9d08-bf1ebbbb886b",
   "metadata": {},
   "outputs": [],
   "source": [
    "data.Outcome.value_counts()"
   ]
  },
  {
   "cell_type": "markdown",
   "id": "60ee9490-b330-458f-96b4-62cf488aaf85",
   "metadata": {},
   "source": [
    "#### Features Selection"
   ]
  },
  {
   "cell_type": "code",
   "execution_count": null,
   "id": "96207c01-02af-411e-8c28-0cf197468b9b",
   "metadata": {},
   "outputs": [],
   "source": [
    "sns.heatmap(data.corr(),annot = True, cmap = \"Blues\")"
   ]
  },
  {
   "cell_type": "code",
   "execution_count": null,
   "id": "6a200564-c71b-4c6f-bf44-eb93748bc443",
   "metadata": {},
   "outputs": [],
   "source": [
    "for i in range(8):\n",
    "    cor = data.iloc[:,i].corr(data.iloc[:,8])\n",
    "    print(f\"Correlation b/w {data.columns[i]} and {data.columns[8]} = {cor: .4f}\")"
   ]
  },
  {
   "cell_type": "code",
   "execution_count": null,
   "id": "944f8a9f-bcbe-4c4a-8ed8-06ae107b5b61",
   "metadata": {},
   "outputs": [],
   "source": [
    "for col in data.columns:\n",
    "    if (col != \"Outcome\"):\n",
    "        info = mutual_info_classif(data[[col]], data[\"Outcome\"])\n",
    "        print(f\"MI b/w {col} and Outcome = {info[0]:.4f}\")"
   ]
  },
  {
   "cell_type": "code",
   "execution_count": null,
   "id": "d10785d6-db59-4437-97f8-b48bdfa8ca94",
   "metadata": {},
   "outputs": [],
   "source": [
    "X = data.drop(\"Outcome\", axis = 1)\n",
    "Y = data[\"Outcome\"]"
   ]
  },
  {
   "cell_type": "markdown",
   "id": "4306c2dc-495d-46ff-bcf5-77d0b1386240",
   "metadata": {},
   "source": [
    "#### Data Splitting"
   ]
  },
  {
   "cell_type": "code",
   "execution_count": null,
   "id": "dceeab28-3e70-4a1e-8603-4e79a312e417",
   "metadata": {},
   "outputs": [],
   "source": [
    "Xtrain, Xtest, Ytrain, Ytest = train_test_split(X,Y, test_size=0.2, random_state=42)"
   ]
  },
  {
   "cell_type": "markdown",
   "id": "e5c4b299-4c92-4383-b284-b6e3808c3e3d",
   "metadata": {},
   "source": [
    "#### Data Scalling"
   ]
  },
  {
   "cell_type": "code",
   "execution_count": null,
   "id": "0bb4884f-0ae4-4046-bcc2-a6d60f66db23",
   "metadata": {},
   "outputs": [],
   "source": [
    "scaler = MinMaxScaler()\n",
    "Xtrain_scaled = scaler.fit_transform(Xtrain)\n",
    "Xtest_scaled = scaler.transform(Xtest)"
   ]
  },
  {
   "cell_type": "markdown",
   "id": "7f1c49f0-674a-4149-89ee-5f57186821a7",
   "metadata": {},
   "source": [
    "#### Data Balancing using SMOTE"
   ]
  },
  {
   "cell_type": "code",
   "execution_count": null,
   "id": "fa5751d4-6a85-47ef-aa0f-d1da58e3799f",
   "metadata": {},
   "outputs": [],
   "source": [
    "smote = SMOTE(random_state = 42)\n",
    "Xtrain_resampled, Ytrain_resampled = smote.fit_resample(Xtrain_scaled, Ytrain)"
   ]
  },
  {
   "cell_type": "markdown",
   "id": "7c5a99bb-5562-48ba-81d0-a56e022368e4",
   "metadata": {},
   "source": [
    "#### Models"
   ]
  },
  {
   "cell_type": "code",
   "execution_count": null,
   "id": "641d3f92-a18c-476a-b3c5-48289ade298c",
   "metadata": {},
   "outputs": [],
   "source": [
    "models = { \"LogisticRegression\": LogisticRegression(), \"DecisionTree\": DecisionTreeClassifier(), \"KNN\": KNeighborsClassifier(n_neighbors=10), \n",
    "          \"RandomForest\": RandomForestClassifier(n_estimators=100, random_state =42) }"
   ]
  },
  {
   "cell_type": "markdown",
   "id": "559a6779-e94a-4a60-b4bf-60b03c639e79",
   "metadata": {},
   "source": [
    "#### Training and evaluation"
   ]
  },
  {
   "cell_type": "code",
   "execution_count": null,
   "id": "275669bd-641e-4db1-a56c-4d6596080f29",
   "metadata": {},
   "outputs": [],
   "source": [
    "for name, model in models.items():\n",
    "    # Model Training and prediction\n",
    "    model.fit(Xtrain_resampled, Ytrain_resampled)\n",
    "    Ypred = model.predict(Xtest_scaled)\n",
    "    # Metrics\n",
    "    cm = confusion_matrix(Ytest, Ypred)\n",
    "    acc = accuracy_score(Ytest, Ypred)\n",
    "    prec = precision_score(Ytest, Ypred)\n",
    "    rec = recall_score(Ytest, Ypred)\n",
    "    f1 = f1_score(Ytest, Ypred)\n",
    "    print(f\"{name} Metrics:\")\n",
    "    print(f\"\\tAccuracy : {acc: .2f}\")\n",
    "    print(f\"\\tPrecision : {prec: .2f}\")\n",
    "    print(f\"\\tRecall : {rec: .2f}\")\n",
    "    print(f\"\\tF1 : {f1: .2f}\")\n",
    "    sns.heatmap(cm, annot = True, cmap= \"Blues\", xticklabels=[\"No diabetes\", \"diabetes\"], yticklabels=[\"No diabetes\", \"diabetes\"])\n",
    "    plt.title(f\"Confusion matrix of {name}\")\n",
    "    plt.xlabel(\"Predicted values\")\n",
    "    plt.ylabel(\"Actual values\")\n",
    "    plt.show()"
   ]
  },
  {
   "cell_type": "markdown",
   "id": "7bf7be5e-b1bf-4b5b-961e-681ee559063a",
   "metadata": {},
   "source": [
    "#### Saving Model and scaler"
   ]
  },
  {
   "cell_type": "code",
   "execution_count": null,
   "id": "47c74c35-a2e0-42b6-894a-7d6ab27a699a",
   "metadata": {},
   "outputs": [],
   "source": [
    "with open(\"Diabetes pedictor model.pkl\", 'wb') as file:\n",
    "    joblib.dump(models[\"RandomForest\"], file)"
   ]
  },
  {
   "cell_type": "code",
   "execution_count": null,
   "id": "123cd015-105b-4d03-b10c-bf0211861f12",
   "metadata": {},
   "outputs": [],
   "source": [
    "with open(\"Scaler.pkl\", 'wb') as f:\n",
    "    joblib.dump(scaler, f)"
   ]
  }
 ],
 "metadata": {
  "kernelspec": {
   "display_name": "Python [conda env:base] *",
   "language": "python",
   "name": "conda-base-py"
  },
  "language_info": {
   "codemirror_mode": {
    "name": "ipython",
    "version": 3
   },
   "file_extension": ".py",
   "mimetype": "text/x-python",
   "name": "python",
   "nbconvert_exporter": "python",
   "pygments_lexer": "ipython3",
   "version": "3.12.7"
  }
 },
 "nbformat": 4,
 "nbformat_minor": 5
}
