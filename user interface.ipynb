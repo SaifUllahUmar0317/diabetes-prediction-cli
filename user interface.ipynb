{
 "cells": [
  {
   "cell_type": "code",
   "execution_count": null,
   "id": "81415a2a-1e3b-4077-94bf-2d45e5c61fbf",
   "metadata": {},
   "outputs": [],
   "source": [
    "import pandas as pd\n",
    "import joblib\n",
    "import numpy as np"
   ]
  },
  {
   "cell_type": "code",
   "execution_count": null,
   "id": "c27dad97-218b-47c1-bc25-db5137a774ad",
   "metadata": {},
   "outputs": [],
   "source": [
    "print(\"\\t\\t--- Enter Patient Details ---\")\n",
    "data = [\"\" for _ in range(8)]\n",
    "features = [\"Pregnancies\", \"Glucose\", \"BloodPressure\", \"SkinThickness\", \"Insulin\", \"BMI\", \"DiabetesPedigreeFunction\", \"Age\"]\n",
    "for i,name in enumerate(features):\n",
    "    data[i] = float(input(f\"\\n{name}: \"))"
   ]
  },
  {
   "cell_type": "code",
   "execution_count": null,
   "id": "2424a522-258d-4cf5-a05a-ee6e61bd324c",
   "metadata": {},
   "outputs": [],
   "source": [
    "X = pd.DataFrame(np.reshape(data, (1,8)), columns = [\"Pregnancies\", \"Glucose\", \"BloodPressure\", \"SkinThickness\", \"Insulin\", \"BMI\", \"DiabetesPedigreeFunction\", \"Age\"],\n",
    "                  index = range(1))"
   ]
  },
  {
   "cell_type": "code",
   "execution_count": null,
   "id": "bfa86453-3b1f-4de7-873f-de8eb96409b0",
   "metadata": {},
   "outputs": [],
   "source": [
    "with open(\"scaler.pkl\", 'rb') as sc:\n",
    "    scaler = joblib.load(sc)\n",
    "X_scaled = scaler.transform(X)"
   ]
  },
  {
   "cell_type": "code",
   "execution_count": null,
   "id": "06068d7d-35b0-4fe6-8cc8-a102c12ffd16",
   "metadata": {},
   "outputs": [],
   "source": [
    "with open(\"Diabetes pedictor model.pkl\", 'rb') as mdl:\n",
    "    model = joblib.load(mdl)\n",
    "Y = model.predict(X_scaled)"
   ]
  },
  {
   "cell_type": "code",
   "execution_count": null,
   "id": "f53ed279-4c2e-4092-a10d-5aab09e26435",
   "metadata": {},
   "outputs": [],
   "source": [
    "print(\"Prediction Result:\")\n",
    "if (Y[0] == 0):\n",
    "    print(\"The person is NOT Diabetic.\")\n",
    "else:\n",
    "    print(\"The person is Diabetic.\")"
   ]
  }
 ],
 "metadata": {
  "kernelspec": {
   "display_name": "Python [conda env:base] *",
   "language": "python",
   "name": "conda-base-py"
  },
  "language_info": {
   "codemirror_mode": {
    "name": "ipython",
    "version": 3
   },
   "file_extension": ".py",
   "mimetype": "text/x-python",
   "name": "python",
   "nbconvert_exporter": "python",
   "pygments_lexer": "ipython3",
   "version": "3.12.7"
  }
 },
 "nbformat": 4,
 "nbformat_minor": 5
}
